{
  "cells": [
    {
      "cell_type": "code",
      "execution_count": 19,
      "metadata": {
        "colab": {
          "base_uri": "https://localhost:8080/"
        },
        "id": "Ne5fZvGSRMx2",
        "outputId": "d880753b-01f5-4bdb-b6e7-17eaf7024d6e"
      },
      "outputs": [
        {
          "name": "stderr",
          "output_type": "stream",
          "text": [
            "fatal: destination path 'cbdb_sqlite' already exists and is not an empty directory.\n"
          ]
        }
      ],
      "source": [
        "# Download CBDB sqlite\n",
        "!git clone https://github.com/cbdb-project/cbdb_sqlite.git"
      ]
    },
    {
      "cell_type": "code",
      "execution_count": 20,
      "metadata": {
        "colab": {
          "base_uri": "https://localhost:8080/"
        },
        "id": "sTdiMTi2SDtD",
        "outputId": "7725f7c8-fc11-4b9d-cfbc-a42db4ae4bf6"
      },
      "outputs": [
        {
          "name": "stdout",
          "output_type": "stream",
          "text": [
            "latest.db\n"
          ]
        }
      ],
      "source": [
        "# import glob\n",
        "import os\n",
        "latest_file = \"./cbdb_sqlite/latest.7z\"\n",
        "latest_db = latest_file.split(\"/\")[2].split(\".\")[0] + \".db\"\n",
        "print(latest_db)\n",
        "if os.path.isfile(latest_db):\n",
        "    os.remove(latest_db)"
      ]
    },
    {
      "cell_type": "code",
      "execution_count": 21,
      "metadata": {
        "colab": {
          "base_uri": "https://localhost:8080/"
        },
        "id": "JiWn2I7NS3gw",
        "outputId": "40a42487-fd24-4f06-f568-892b35533db7"
      },
      "outputs": [
        {
          "name": "stdout",
          "output_type": "stream",
          "text": [
            "Requirement already satisfied: pyunpack in c:\\programdata\\anaconda3\\lib\\site-packages (0.2.2)\n",
            "Requirement already satisfied: entrypoint2 in c:\\programdata\\anaconda3\\lib\\site-packages (from pyunpack) (0.2.4)\n",
            "Requirement already satisfied: easyprocess in c:\\programdata\\anaconda3\\lib\\site-packages (from pyunpack) (0.3)\n",
            "Requirement already satisfied: patool in c:\\programdata\\anaconda3\\lib\\site-packages (1.12)\n"
          ]
        }
      ],
      "source": [
        "# Explode latest database file\n",
        "!pip install pyunpack\n",
        "!pip install patool\n",
        "from pyunpack import Archive\n",
        "Archive(latest_file).extractall(\".\")"
      ]
    },
    {
      "cell_type": "code",
      "execution_count": 22,
      "metadata": {
        "id": "wgk0n6IjTC66"
      },
      "outputs": [],
      "source": [
        "# Create connection to database\n",
        "import sqlite3\n",
        "import pandas as pd\n",
        "global CONN\n",
        "database_file = os.path.basename(latest_file).split(\".\")[0]+\".db\"\n",
        "CONN = sqlite3.connect(database_file)"
      ]
    },
    {
      "cell_type": "code",
      "execution_count": 23,
      "metadata": {
        "colab": {
          "base_uri": "https://localhost:8080/",
          "height": 419
        },
        "id": "6L7vHwL3TUnw",
        "outputId": "f8b0e911-45e9-40f0-de68-4dac3ebb0d20"
      },
      "outputs": [
        {
          "data": {
            "text/html": [
              "<div>\n",
              "<style scoped>\n",
              "    .dataframe tbody tr th:only-of-type {\n",
              "        vertical-align: middle;\n",
              "    }\n",
              "\n",
              "    .dataframe tbody tr th {\n",
              "        vertical-align: top;\n",
              "    }\n",
              "\n",
              "    .dataframe thead th {\n",
              "        text-align: right;\n",
              "    }\n",
              "</style>\n",
              "<table border=\"1\" class=\"dataframe\">\n",
              "  <thead>\n",
              "    <tr style=\"text-align: right;\">\n",
              "      <th></th>\n",
              "      <th>addr_chn</th>\n",
              "    </tr>\n",
              "  </thead>\n",
              "  <tbody>\n",
              "    <tr>\n",
              "      <th>0</th>\n",
              "      <td>[信息缺乏]</td>\n",
              "    </tr>\n",
              "    <tr>\n",
              "      <th>1</th>\n",
              "      <td>[未詳]</td>\n",
              "    </tr>\n",
              "    <tr>\n",
              "      <th>2</th>\n",
              "      <td></td>\n",
              "    </tr>\n",
              "    <tr>\n",
              "      <th>3</th>\n",
              "      <td>中華人民共和國</td>\n",
              "    </tr>\n",
              "    <tr>\n",
              "      <th>4</th>\n",
              "      <td>北京省市</td>\n",
              "    </tr>\n",
              "    <tr>\n",
              "      <th>...</th>\n",
              "      <td>...</td>\n",
              "    </tr>\n",
              "    <tr>\n",
              "      <th>13374</th>\n",
              "      <td>定戎</td>\n",
              "    </tr>\n",
              "    <tr>\n",
              "      <th>13375</th>\n",
              "      <td>義合</td>\n",
              "    </tr>\n",
              "    <tr>\n",
              "      <th>13376</th>\n",
              "      <td>積石軍</td>\n",
              "    </tr>\n",
              "    <tr>\n",
              "      <th>13377</th>\n",
              "      <td>敷文</td>\n",
              "    </tr>\n",
              "    <tr>\n",
              "      <th>13378</th>\n",
              "      <td>江淮等路</td>\n",
              "    </tr>\n",
              "  </tbody>\n",
              "</table>\n",
              "<p>13126 rows × 1 columns</p>\n",
              "</div>"
            ],
            "text/plain": [
              "      addr_chn\n",
              "0       [信息缺乏]\n",
              "1         [未詳]\n",
              "2             \n",
              "3      中華人民共和國\n",
              "4         北京省市\n",
              "...        ...\n",
              "13374       定戎\n",
              "13375       義合\n",
              "13376      積石軍\n",
              "13377       敷文\n",
              "13378     江淮等路\n",
              "\n",
              "[13126 rows x 1 columns]"
            ]
          },
          "execution_count": 23,
          "metadata": {},
          "output_type": "execute_result"
        }
      ],
      "source": [
        "addr_df_c_name_chn = pd.read_sql_query(\"SELECT c_name_chn FROM ADDR_CODES\", CONN).drop_duplicates().dropna()\n",
        "addr_df_c_alt_names = pd.read_sql_query(\"SELECT c_alt_names FROM ADDR_CODES\", CONN).drop_duplicates().dropna()\n",
        "addr_df = pd.concat([addr_df_c_name_chn, addr_df_c_alt_names], axis=1).stack().reset_index(drop=True).drop_duplicates().dropna().to_frame(name='addr_chn')\n",
        "addr_df"
      ]
    },
    {
      "cell_type": "code",
      "execution_count": 24,
      "metadata": {
        "colab": {
          "base_uri": "https://localhost:8080/"
        },
        "id": "miZuXE1OW7Rf",
        "outputId": "b31940dd-fe0f-4ffb-a1bd-5f193d484f53"
      },
      "outputs": [
        {
          "name": "stdout",
          "output_type": "stream",
          "text": [
            "['都團練觀察使', '備禦右千戶所', '備禦前千戶所', '備禦後千戶所', '備禦左千戶所', '都團練觀察', '江防兵備道', '軍民總管府', '觀察防遏使', '防御觀察使', '團練觀察使', '副都統轄區', '特別行政區', '行政督查區', '群牧千戶所', '備禦千戶所', '左右千戶所', '中後千戶所', '中右千戶所', '中左千戶所', '中前千戶所', '軍民千戶所', '守禦千戶所', '沿邊第十區', '沿邊第九區', '沿邊第八區', '沿邊第七區', '沿邊第六區', '沿邊第五區', '沿邊第四區', '沿邊第三區', '沿邊第二區', '沿邊第一區', '觀察防遏', '防御觀察', '團練觀察', '廉訪司道', '封國封郡', '行中書省', '都防御使', '將軍轄區', '省諸道區', '右千戶所', '左千戶所', '前千戶所', '都防御', '百戶所', '千戶所', '分守道', '分巡道', '監察道', '監軍道', '兵備道', '羈縻州', '自治州', '總帥府', '都護府', '總管府', '都督府', '自治縣', '直隸廳', '鎮守軍', '道行軍', '守捉使', '處置使', '經略使', '防御使', '團練使', '觀察使', '節度使', '行政區', '特別區', '綏靖區', '市轄區', '群牧所', '宣撫司', '布政司', '慰使司', '宣慰司', '儀衛司', '安撫司', '揮使司', '長官司', '中護衛', '左護衛', '右護衛', '前屯衛', '後屯衛', '中屯衛', '右屯衛', '等處', '守捉', '經略', '防御', '團練', '觀察', '中道', '諸道', '東道', '西道', '王府', '土縣', '分縣', '左旗', '右旗', '後旗', '前旗', '中旗', '府路', '北路', '南路', '西路', '東路', '郊區', '特區', '地區', '節度', '護衛', '前衛', '中衛', '左衛', '右衛', '五衛', '等', '縣', '省', '廳', '軍', '旗', '路', '使', '區', '司', '市', '衛', '道', '郡', '州', '府']\n",
            "139\n"
          ]
        }
      ],
      "source": [
        "# read in address type csv file\n",
        "address_type_df = pd.read_csv('../cbdb_entity_address_types.csv')\n",
        "address_type_list = address_type_df['name'].to_list()\n",
        "address_type_list = address_type_list + [\"等\", \"等處\"]\n",
        "address_type_list = sorted(address_type_list, key=len)\n",
        "address_type_list.reverse()\n",
        "print(len(address_type_list))"
      ]
    },
    {
      "cell_type": "code",
      "execution_count": 25,
      "metadata": {
        "id": "M9il3aSsXpuU"
      },
      "outputs": [],
      "source": [
        "def recursively_remove_addr_type_from_text(res, text, address_type_list):\n",
        "  if not text:\n",
        "    return\n",
        "  res.append(text)\n",
        "  for word in address_type_list:\n",
        "    if text.endswith(word):\n",
        "      remains = text[:len(text)-len(word)]\n",
        "      recursively_remove_addr_type_from_text(res, remains, address_type_list)\n",
        "      break;\n",
        "\n",
        "def remove_addr_type_from_text(text, address_type_list):\n",
        "  res = []\n",
        "  recursively_remove_addr_type_from_text(res, text, address_type_list)\n",
        "  return res"
      ]
    },
    {
      "cell_type": "code",
      "execution_count": 26,
      "metadata": {
        "colab": {
          "base_uri": "https://localhost:8080/"
        },
        "id": "aaqZ6rjszeAE",
        "outputId": "3ef48447-8a55-45c3-c904-068c9f3f19be"
      },
      "outputs": [
        {
          "name": "stdout",
          "output_type": "stream",
          "text": [
            "['沿邊第一區備禦後千戶所左衛', '沿邊第一區備禦後千戶所', '沿邊第一區']\n"
          ]
        }
      ],
      "source": [
        "# Test get_addr_tokens_from_text\n",
        "input = \"沿邊第一區備禦後千戶所左衛\"\n",
        "res = remove_addr_type_from_text(input, address_type_list)\n",
        "print(res)"
      ]
    },
    {
      "cell_type": "code",
      "execution_count": 27,
      "metadata": {
        "id": "POEJnpbyTVTA"
      },
      "outputs": [],
      "source": [
        "def names_massage(df, column):\n",
        "  # split line by ;\n",
        "  df[column] = df[column].apply(lambda x: x.split(';'))\n",
        "  df = df.explode(column).drop_duplicates().dropna()\n",
        "  # remove row with 、\n",
        "  df = df[df[column].str.contains('、')==False]\n",
        "  # replace spaces with blank\n",
        "  df[column] = df[column].str.replace(\"\\\\s\", \"\", regex=True)\n",
        "  # remove single-character row\n",
        "  df = df[df[column].apply(lambda x: len(x)>1)]\n",
        "  # remove the addresses which contain any English letters or any sort of brackets\n",
        "  df = df[df[column].str.contains('.*[a-zA-Z]+.*')==False]\n",
        "  df = df[df[column].str.contains('\\(|\\[|{|\\)|\\]|}|（|「|【|）|」|】')==False]\n",
        "  # remove address type recursively\n",
        "  df[column] = df[column].apply(lambda x: remove_addr_type_from_text(x, address_type_list))\n",
        "  df = df.explode(column).drop_duplicates().dropna()\n",
        "  # remove single-character \n",
        "  df = df[df[column].apply(lambda x: len(x)>1)]\n",
        "  # remove row that's too long\n",
        "  df = df[df[column].apply(lambda x: len(x)<14)]\n",
        "  return df"
      ]
    },
    {
      "cell_type": "code",
      "execution_count": 28,
      "metadata": {
        "id": "6YU_kh8WoCcd"
      },
      "outputs": [],
      "source": [
        "filtered_addr_df = names_massage(addr_df, 'addr_chn')"
      ]
    },
    {
      "cell_type": "code",
      "execution_count": 29,
      "metadata": {
        "colab": {
          "base_uri": "https://localhost:8080/",
          "height": 419
        },
        "id": "HVocrCl2oMOu",
        "outputId": "ca2f7e6b-e1dd-4838-b30f-dca5b894c4a5"
      },
      "outputs": [
        {
          "data": {
            "text/html": [
              "<div>\n",
              "<style scoped>\n",
              "    .dataframe tbody tr th:only-of-type {\n",
              "        vertical-align: middle;\n",
              "    }\n",
              "\n",
              "    .dataframe tbody tr th {\n",
              "        vertical-align: top;\n",
              "    }\n",
              "\n",
              "    .dataframe thead th {\n",
              "        text-align: right;\n",
              "    }\n",
              "</style>\n",
              "<table border=\"1\" class=\"dataframe\">\n",
              "  <thead>\n",
              "    <tr style=\"text-align: right;\">\n",
              "      <th></th>\n",
              "      <th>addr_chn</th>\n",
              "    </tr>\n",
              "  </thead>\n",
              "  <tbody>\n",
              "    <tr>\n",
              "      <th>3</th>\n",
              "      <td>中華人民共和國</td>\n",
              "    </tr>\n",
              "    <tr>\n",
              "      <th>4</th>\n",
              "      <td>北京省市</td>\n",
              "    </tr>\n",
              "    <tr>\n",
              "      <th>4</th>\n",
              "      <td>北京省</td>\n",
              "    </tr>\n",
              "    <tr>\n",
              "      <th>4</th>\n",
              "      <td>北京</td>\n",
              "    </tr>\n",
              "    <tr>\n",
              "      <th>5</th>\n",
              "      <td>天津省市</td>\n",
              "    </tr>\n",
              "    <tr>\n",
              "      <th>...</th>\n",
              "      <td>...</td>\n",
              "    </tr>\n",
              "    <tr>\n",
              "      <th>13375</th>\n",
              "      <td>義合</td>\n",
              "    </tr>\n",
              "    <tr>\n",
              "      <th>13376</th>\n",
              "      <td>積石軍</td>\n",
              "    </tr>\n",
              "    <tr>\n",
              "      <th>13377</th>\n",
              "      <td>敷文</td>\n",
              "    </tr>\n",
              "    <tr>\n",
              "      <th>13378</th>\n",
              "      <td>江淮等路</td>\n",
              "    </tr>\n",
              "    <tr>\n",
              "      <th>13378</th>\n",
              "      <td>江淮等</td>\n",
              "    </tr>\n",
              "  </tbody>\n",
              "</table>\n",
              "<p>16185 rows × 1 columns</p>\n",
              "</div>"
            ],
            "text/plain": [
              "      addr_chn\n",
              "3      中華人民共和國\n",
              "4         北京省市\n",
              "4          北京省\n",
              "4           北京\n",
              "5         天津省市\n",
              "...        ...\n",
              "13375       義合\n",
              "13376      積石軍\n",
              "13377       敷文\n",
              "13378     江淮等路\n",
              "13378      江淮等\n",
              "\n",
              "[16185 rows x 1 columns]"
            ]
          },
          "execution_count": 29,
          "metadata": {},
          "output_type": "execute_result"
        }
      ],
      "source": [
        "filtered_addr_df"
      ]
    },
    {
      "cell_type": "code",
      "execution_count": 30,
      "metadata": {
        "colab": {
          "base_uri": "https://localhost:8080/",
          "height": 419
        },
        "id": "i6kWrl4Uh1gx",
        "outputId": "7620bf9e-5a6c-4f50-bf5b-9d63bd245a4c"
      },
      "outputs": [
        {
          "data": {
            "text/html": [
              "<div>\n",
              "<style scoped>\n",
              "    .dataframe tbody tr th:only-of-type {\n",
              "        vertical-align: middle;\n",
              "    }\n",
              "\n",
              "    .dataframe tbody tr th {\n",
              "        vertical-align: top;\n",
              "    }\n",
              "\n",
              "    .dataframe thead th {\n",
              "        text-align: right;\n",
              "    }\n",
              "</style>\n",
              "<table border=\"1\" class=\"dataframe\">\n",
              "  <thead>\n",
              "    <tr style=\"text-align: right;\">\n",
              "      <th></th>\n",
              "      <th>addr_chn</th>\n",
              "    </tr>\n",
              "  </thead>\n",
              "  <tbody>\n",
              "    <tr>\n",
              "      <th>9777</th>\n",
              "      <td>朵甘思田地裏管軍民都元帥府</td>\n",
              "    </tr>\n",
              "    <tr>\n",
              "      <th>7609</th>\n",
              "      <td>磨坡雷波等處蠻夷軍民長官司</td>\n",
              "    </tr>\n",
              "    <tr>\n",
              "      <th>7501</th>\n",
              "      <td>沿河祐溪等處蠻夷軍民長官司</td>\n",
              "    </tr>\n",
              "    <tr>\n",
              "      <th>10316</th>\n",
              "      <td>固原靜寧隆德鎮原等處兵備道</td>\n",
              "    </tr>\n",
              "    <tr>\n",
              "      <th>7607</th>\n",
              "      <td>葛蠻雍真等處蠻夷軍民長官司</td>\n",
              "    </tr>\n",
              "    <tr>\n",
              "      <th>...</th>\n",
              "      <td>...</td>\n",
              "    </tr>\n",
              "    <tr>\n",
              "      <th>3554</th>\n",
              "      <td>定武</td>\n",
              "    </tr>\n",
              "    <tr>\n",
              "      <th>3555</th>\n",
              "      <td>賓州</td>\n",
              "    </tr>\n",
              "    <tr>\n",
              "      <th>3556</th>\n",
              "      <td>遷民</td>\n",
              "    </tr>\n",
              "    <tr>\n",
              "      <th>3527</th>\n",
              "      <td>嘉州</td>\n",
              "    </tr>\n",
              "    <tr>\n",
              "      <th>2693</th>\n",
              "      <td>祥雲</td>\n",
              "    </tr>\n",
              "  </tbody>\n",
              "</table>\n",
              "<p>16185 rows × 1 columns</p>\n",
              "</div>"
            ],
            "text/plain": [
              "            addr_chn\n",
              "9777   朵甘思田地裏管軍民都元帥府\n",
              "7609   磨坡雷波等處蠻夷軍民長官司\n",
              "7501   沿河祐溪等處蠻夷軍民長官司\n",
              "10316  固原靜寧隆德鎮原等處兵備道\n",
              "7607   葛蠻雍真等處蠻夷軍民長官司\n",
              "...              ...\n",
              "3554              定武\n",
              "3555              賓州\n",
              "3556              遷民\n",
              "3527              嘉州\n",
              "2693              祥雲\n",
              "\n",
              "[16185 rows x 1 columns]"
            ]
          },
          "execution_count": 30,
          "metadata": {},
          "output_type": "execute_result"
        }
      ],
      "source": [
        "# Sort by descending order of the length\n",
        "final_df = filtered_addr_df.sort_values(by=\"addr_chn\", key=lambda x: -x.str.len())\n",
        "final_df"
      ]
    },
    {
      "cell_type": "code",
      "execution_count": 31,
      "metadata": {
        "id": "DvIGLM4LDV2q"
      },
      "outputs": [],
      "source": [
        "final_df.to_csv('cbdb_entity_addresses.csv', index=False)"
      ]
    },
    {
      "cell_type": "code",
      "execution_count": 32,
      "metadata": {
        "id": "akK3-pokMswx"
      },
      "outputs": [],
      "source": [
        "# close the db\n",
        "CONN.close()"
      ]
    }
  ],
  "metadata": {
    "colab": {
      "collapsed_sections": [],
      "name": "generate CBDB address entities.ipynb",
      "provenance": []
    },
    "interpreter": {
      "hash": "b3ba2566441a7c06988d0923437866b63cedc61552a5af99d1f4fb67d367b25f"
    },
    "kernelspec": {
      "display_name": "Python 3.8.8 64-bit ('base': conda)",
      "name": "python3"
    },
    "language_info": {
      "codemirror_mode": {
        "name": "ipython",
        "version": 3
      },
      "file_extension": ".py",
      "mimetype": "text/x-python",
      "name": "python",
      "nbconvert_exporter": "python",
      "pygments_lexer": "ipython3",
      "version": "3.8.8"
    }
  },
  "nbformat": 4,
  "nbformat_minor": 0
}
