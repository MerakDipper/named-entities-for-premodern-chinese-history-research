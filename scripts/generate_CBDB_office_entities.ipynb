{
  "nbformat": 4,
  "nbformat_minor": 0,
  "metadata": {
    "colab": {
      "name": "generate CBDB office entities.ipynb",
      "provenance": [],
      "collapsed_sections": []
    },
    "kernelspec": {
      "name": "python3",
      "display_name": "Python 3.8.8 64-bit ('base': conda)"
    },
    "language_info": {
      "name": "python",
      "version": "3.8.8",
      "mimetype": "text/x-python",
      "codemirror_mode": {
        "name": "ipython",
        "version": 3
      },
      "pygments_lexer": "ipython3",
      "nbconvert_exporter": "python",
      "file_extension": ".py"
    },
    "interpreter": {
      "hash": "b3ba2566441a7c06988d0923437866b63cedc61552a5af99d1f4fb67d367b25f"
    }
  },
  "cells": [
    {
      "cell_type": "code",
      "metadata": {
        "colab": {
          "base_uri": "https://localhost:8080/"
        },
        "id": "Ne5fZvGSRMx2",
        "outputId": "39081f76-d030-4344-91e5-748b3c839c60"
      },
      "source": [
        "# Download CBDB sqlite\n",
        "!git clone https://github.com/cbdb-project/cbdb_sqlite.git"
      ],
      "execution_count": 34,
      "outputs": [
        {
          "output_type": "stream",
          "name": "stdout",
          "text": [
            "fatal: destination path 'cbdb_sqlite' already exists and is not an empty directory.\n"
          ]
        }
      ]
    },
    {
      "cell_type": "code",
      "metadata": {
        "colab": {
          "base_uri": "https://localhost:8080/"
        },
        "id": "sTdiMTi2SDtD",
        "outputId": "c93088f6-fb27-462e-8e35-6942a4ef6475"
      },
      "source": [
        "# import glob\n",
        "import os\n",
        "latest_file = \"./cbdb_sqlite/latest.7z\"\n",
        "latest_db = latest_file.split(\"/\")[2].split(\".\")[0] + \".db\"\n",
        "print(latest_db)\n",
        "if os.path.isfile(latest_db):\n",
        "    os.remove(latest_db)"
      ],
      "execution_count": 35,
      "outputs": [
        {
          "output_type": "stream",
          "name": "stdout",
          "text": [
            "latest.db\n"
          ]
        }
      ]
    },
    {
      "cell_type": "code",
      "metadata": {
        "colab": {
          "base_uri": "https://localhost:8080/"
        },
        "id": "JiWn2I7NS3gw",
        "outputId": "ced91e05-b727-43fd-ec9a-82bc629a95a1"
      },
      "source": [
        "# Explode latest database file\n",
        "!pip install pyunpack\n",
        "!pip install patool\n",
        "from pyunpack import Archive\n",
        "Archive(latest_file).extractall(\".\")"
      ],
      "execution_count": 36,
      "outputs": [
        {
          "output_type": "stream",
          "name": "stdout",
          "text": [
            "Requirement already satisfied: pyunpack in /usr/local/lib/python3.7/dist-packages (0.2.2)\n",
            "Requirement already satisfied: easyprocess in /usr/local/lib/python3.7/dist-packages (from pyunpack) (0.3)\n",
            "Requirement already satisfied: entrypoint2 in /usr/local/lib/python3.7/dist-packages (from pyunpack) (0.2.4)\n",
            "Requirement already satisfied: patool in /usr/local/lib/python3.7/dist-packages (1.12)\n"
          ]
        }
      ]
    },
    {
      "cell_type": "code",
      "metadata": {
        "id": "wgk0n6IjTC66"
      },
      "source": [
        "# Create connection to database\n",
        "import sqlite3\n",
        "import pandas as pd\n",
        "global CONN\n",
        "database_file = os.path.basename(latest_file).split(\".\")[0]+\".db\"\n",
        "CONN = sqlite3.connect(database_file)"
      ],
      "execution_count": 37,
      "outputs": []
    },
    {
      "cell_type": "code",
      "metadata": {
        "id": "6L7vHwL3TUnw"
      },
      "source": [
        "office_df = pd.read_sql_query(\"SELECT c_office_chn, c_dy FROM OFFICE_CODES\", CONN).drop_duplicates().dropna()\n",
        "office_alt_df = pd.read_sql_query(\"SELECT c_office_chn_alt, c_dy FROM OFFICE_CODES\", CONN).drop_duplicates().dropna()"
      ],
      "execution_count": 38,
      "outputs": []
    },
    {
      "cell_type": "code",
      "metadata": {
        "colab": {
          "base_uri": "https://localhost:8080/",
          "height": 419
        },
        "id": "Hcj7wR5ePbEK",
        "outputId": "8c2950c3-4e19-45de-a4fb-efdef6393afb"
      },
      "source": [
        "office_df"
      ],
      "execution_count": 39,
      "outputs": [
        {
          "output_type": "execute_result",
          "data": {
            "text/html": [
              "<div>\n",
              "<style scoped>\n",
              "    .dataframe tbody tr th:only-of-type {\n",
              "        vertical-align: middle;\n",
              "    }\n",
              "\n",
              "    .dataframe tbody tr th {\n",
              "        vertical-align: top;\n",
              "    }\n",
              "\n",
              "    .dataframe thead th {\n",
              "        text-align: right;\n",
              "    }\n",
              "</style>\n",
              "<table border=\"1\" class=\"dataframe\">\n",
              "  <thead>\n",
              "    <tr style=\"text-align: right;\">\n",
              "      <th></th>\n",
              "      <th>c_office_chn</th>\n",
              "      <th>c_dy</th>\n",
              "    </tr>\n",
              "  </thead>\n",
              "  <tbody>\n",
              "    <tr>\n",
              "      <th>0</th>\n",
              "      <td>未詳</td>\n",
              "      <td>15.0</td>\n",
              "    </tr>\n",
              "    <tr>\n",
              "      <th>1</th>\n",
              "      <td>提舉</td>\n",
              "      <td>15.0</td>\n",
              "    </tr>\n",
              "    <tr>\n",
              "      <th>2</th>\n",
              "      <td>三司推勘院</td>\n",
              "      <td>15.0</td>\n",
              "    </tr>\n",
              "    <tr>\n",
              "      <th>3</th>\n",
              "      <td>催欠司</td>\n",
              "      <td>15.0</td>\n",
              "    </tr>\n",
              "    <tr>\n",
              "      <th>4</th>\n",
              "      <td>三司都勾院</td>\n",
              "      <td>15.0</td>\n",
              "    </tr>\n",
              "    <tr>\n",
              "      <th>...</th>\n",
              "      <td>...</td>\n",
              "      <td>...</td>\n",
              "    </tr>\n",
              "    <tr>\n",
              "      <th>32200</th>\n",
              "      <td>訓術</td>\n",
              "      <td>20.0</td>\n",
              "    </tr>\n",
              "    <tr>\n",
              "      <th>32201</th>\n",
              "      <td>奉政大夫</td>\n",
              "      <td>20.0</td>\n",
              "    </tr>\n",
              "    <tr>\n",
              "      <th>32202</th>\n",
              "      <td>待刪除</td>\n",
              "      <td>6.0</td>\n",
              "    </tr>\n",
              "    <tr>\n",
              "      <th>32203</th>\n",
              "      <td>待刪除</td>\n",
              "      <td>20.0</td>\n",
              "    </tr>\n",
              "    <tr>\n",
              "      <th>32204</th>\n",
              "      <td>發運司主管文字</td>\n",
              "      <td>15.0</td>\n",
              "    </tr>\n",
              "  </tbody>\n",
              "</table>\n",
              "<p>31294 rows × 2 columns</p>\n",
              "</div>"
            ],
            "text/plain": [
              "      c_office_chn  c_dy\n",
              "0               未詳  15.0\n",
              "1               提舉  15.0\n",
              "2            三司推勘院  15.0\n",
              "3              催欠司  15.0\n",
              "4            三司都勾院  15.0\n",
              "...            ...   ...\n",
              "32200           訓術  20.0\n",
              "32201         奉政大夫  20.0\n",
              "32202          待刪除   6.0\n",
              "32203          待刪除  20.0\n",
              "32204      發運司主管文字  15.0\n",
              "\n",
              "[31294 rows x 2 columns]"
            ]
          },
          "metadata": {},
          "execution_count": 39
        }
      ]
    },
    {
      "cell_type": "code",
      "metadata": {
        "colab": {
          "base_uri": "https://localhost:8080/",
          "height": 419
        },
        "id": "-FEKkoPzNIV6",
        "outputId": "96204f2a-f107-4c1f-93ea-92d4519dc616"
      },
      "source": [
        "# flat out c_office_chn_alt\n",
        "office_alt_df['c_office_chn_alt'] = office_alt_df['c_office_chn_alt'].apply(lambda x: x.split(';'))\n",
        "office_alt_df = office_alt_df.explode('c_office_chn_alt').drop_duplicates().dropna()\n",
        "office_alt_df"
      ],
      "execution_count": 40,
      "outputs": [
        {
          "output_type": "execute_result",
          "data": {
            "text/html": [
              "<div>\n",
              "<style scoped>\n",
              "    .dataframe tbody tr th:only-of-type {\n",
              "        vertical-align: middle;\n",
              "    }\n",
              "\n",
              "    .dataframe tbody tr th {\n",
              "        vertical-align: top;\n",
              "    }\n",
              "\n",
              "    .dataframe thead th {\n",
              "        text-align: right;\n",
              "    }\n",
              "</style>\n",
              "<table border=\"1\" class=\"dataframe\">\n",
              "  <thead>\n",
              "    <tr style=\"text-align: right;\">\n",
              "      <th></th>\n",
              "      <th>c_office_chn_alt</th>\n",
              "      <th>c_dy</th>\n",
              "    </tr>\n",
              "  </thead>\n",
              "  <tbody>\n",
              "    <tr>\n",
              "      <th>4</th>\n",
              "      <td>三司勾院</td>\n",
              "      <td>15.0</td>\n",
              "    </tr>\n",
              "    <tr>\n",
              "      <th>4</th>\n",
              "      <td>都勾院</td>\n",
              "      <td>15.0</td>\n",
              "    </tr>\n",
              "    <tr>\n",
              "      <th>5</th>\n",
              "      <td>理欠</td>\n",
              "      <td>15.0</td>\n",
              "    </tr>\n",
              "    <tr>\n",
              "      <th>6</th>\n",
              "      <td>三司磨勘司</td>\n",
              "      <td>15.0</td>\n",
              "    </tr>\n",
              "    <tr>\n",
              "      <th>6</th>\n",
              "      <td>磨勘司</td>\n",
              "      <td>15.0</td>\n",
              "    </tr>\n",
              "    <tr>\n",
              "      <th>...</th>\n",
              "      <td>...</td>\n",
              "      <td>...</td>\n",
              "    </tr>\n",
              "    <tr>\n",
              "      <th>31732</th>\n",
              "      <td>提刑司</td>\n",
              "      <td>17.0</td>\n",
              "    </tr>\n",
              "    <tr>\n",
              "      <th>32186</th>\n",
              "      <td>知某州</td>\n",
              "      <td>17.0</td>\n",
              "    </tr>\n",
              "    <tr>\n",
              "      <th>32186</th>\n",
              "      <td>知州</td>\n",
              "      <td>17.0</td>\n",
              "    </tr>\n",
              "    <tr>\n",
              "      <th>32193</th>\n",
              "      <td>戶部清吏司</td>\n",
              "      <td>20.0</td>\n",
              "    </tr>\n",
              "    <tr>\n",
              "      <th>32200</th>\n",
              "      <td>陰陽訓術</td>\n",
              "      <td>20.0</td>\n",
              "    </tr>\n",
              "  </tbody>\n",
              "</table>\n",
              "<p>7063 rows × 2 columns</p>\n",
              "</div>"
            ],
            "text/plain": [
              "      c_office_chn_alt  c_dy\n",
              "4                 三司勾院  15.0\n",
              "4                  都勾院  15.0\n",
              "5                   理欠  15.0\n",
              "6                三司磨勘司  15.0\n",
              "6                  磨勘司  15.0\n",
              "...                ...   ...\n",
              "31732              提刑司  17.0\n",
              "32186              知某州  17.0\n",
              "32186               知州  17.0\n",
              "32193            戶部清吏司  20.0\n",
              "32200             陰陽訓術  20.0\n",
              "\n",
              "[7063 rows x 2 columns]"
            ]
          },
          "metadata": {},
          "execution_count": 40
        }
      ]
    },
    {
      "cell_type": "code",
      "metadata": {
        "id": "POEJnpbyTVTA"
      },
      "source": [
        "def names_massage(df, column):\n",
        "  # remove content in brackets\n",
        "  df[column] = df[column].str.replace(\"[\\(（].*[\\)）]\", \"\", regex=True)\n",
        "  # replace spaces with blank\n",
        "  df[column] = df[column].str.replace(\"\\\\s\", \"\", regex=True)\n",
        "  # remove single-character name\n",
        "  df = df[df[column].apply(lambda x: len(x)>1)]\n",
        "  # filter out weird characters\n",
        "  df = df[df[column].str.contains('\\*|、|某|刪除|未詳|\\[|\\]|【|】')==False]\n",
        "  df = df[df[column].str.contains('.*[a-zA-Z]+.*')==False]\n",
        "  df.drop_duplicates().dropna()\n",
        "  return df"
      ],
      "execution_count": 41,
      "outputs": []
    },
    {
      "cell_type": "code",
      "metadata": {
        "id": "4JAgPmpt5MKp"
      },
      "source": [
        "filtered_office_df = names_massage(office_df, 'c_office_chn')\n",
        "filtered_office_alt_df = names_massage(office_alt_df, 'c_office_chn_alt')"
      ],
      "execution_count": 42,
      "outputs": []
    },
    {
      "cell_type": "code",
      "metadata": {
        "id": "hSr5zMZ8CXOr"
      },
      "source": [
        "filtered_office_df.columns = ['office_name', 'dynasty_index']\n",
        "filtered_office_alt_df.columns = ['office_name', 'dynasty_index']"
      ],
      "execution_count": 43,
      "outputs": []
    },
    {
      "cell_type": "code",
      "metadata": {
        "colab": {
          "base_uri": "https://localhost:8080/",
          "height": 419
        },
        "id": "gIoOFp2KRG_q",
        "outputId": "cdf72278-e7b1-4bb2-d929-402c617dd883"
      },
      "source": [
        "filtered_office_df"
      ],
      "execution_count": 44,
      "outputs": [
        {
          "output_type": "execute_result",
          "data": {
            "text/html": [
              "<div>\n",
              "<style scoped>\n",
              "    .dataframe tbody tr th:only-of-type {\n",
              "        vertical-align: middle;\n",
              "    }\n",
              "\n",
              "    .dataframe tbody tr th {\n",
              "        vertical-align: top;\n",
              "    }\n",
              "\n",
              "    .dataframe thead th {\n",
              "        text-align: right;\n",
              "    }\n",
              "</style>\n",
              "<table border=\"1\" class=\"dataframe\">\n",
              "  <thead>\n",
              "    <tr style=\"text-align: right;\">\n",
              "      <th></th>\n",
              "      <th>office_name</th>\n",
              "      <th>dynasty_index</th>\n",
              "    </tr>\n",
              "  </thead>\n",
              "  <tbody>\n",
              "    <tr>\n",
              "      <th>1</th>\n",
              "      <td>提舉</td>\n",
              "      <td>15.0</td>\n",
              "    </tr>\n",
              "    <tr>\n",
              "      <th>2</th>\n",
              "      <td>三司推勘院</td>\n",
              "      <td>15.0</td>\n",
              "    </tr>\n",
              "    <tr>\n",
              "      <th>3</th>\n",
              "      <td>催欠司</td>\n",
              "      <td>15.0</td>\n",
              "    </tr>\n",
              "    <tr>\n",
              "      <th>4</th>\n",
              "      <td>三司都勾院</td>\n",
              "      <td>15.0</td>\n",
              "    </tr>\n",
              "    <tr>\n",
              "      <th>5</th>\n",
              "      <td>三司都理欠司</td>\n",
              "      <td>15.0</td>\n",
              "    </tr>\n",
              "    <tr>\n",
              "      <th>...</th>\n",
              "      <td>...</td>\n",
              "      <td>...</td>\n",
              "    </tr>\n",
              "    <tr>\n",
              "      <th>32198</th>\n",
              "      <td>通奉大夫</td>\n",
              "      <td>20.0</td>\n",
              "    </tr>\n",
              "    <tr>\n",
              "      <th>32199</th>\n",
              "      <td>閘官</td>\n",
              "      <td>20.0</td>\n",
              "    </tr>\n",
              "    <tr>\n",
              "      <th>32200</th>\n",
              "      <td>訓術</td>\n",
              "      <td>20.0</td>\n",
              "    </tr>\n",
              "    <tr>\n",
              "      <th>32201</th>\n",
              "      <td>奉政大夫</td>\n",
              "      <td>20.0</td>\n",
              "    </tr>\n",
              "    <tr>\n",
              "      <th>32204</th>\n",
              "      <td>發運司主管文字</td>\n",
              "      <td>15.0</td>\n",
              "    </tr>\n",
              "  </tbody>\n",
              "</table>\n",
              "<p>30813 rows × 2 columns</p>\n",
              "</div>"
            ],
            "text/plain": [
              "      office_name  dynasty_index\n",
              "1              提舉           15.0\n",
              "2           三司推勘院           15.0\n",
              "3             催欠司           15.0\n",
              "4           三司都勾院           15.0\n",
              "5          三司都理欠司           15.0\n",
              "...           ...            ...\n",
              "32198        通奉大夫           20.0\n",
              "32199          閘官           20.0\n",
              "32200          訓術           20.0\n",
              "32201        奉政大夫           20.0\n",
              "32204     發運司主管文字           15.0\n",
              "\n",
              "[30813 rows x 2 columns]"
            ]
          },
          "metadata": {},
          "execution_count": 44
        }
      ]
    },
    {
      "cell_type": "code",
      "metadata": {
        "colab": {
          "base_uri": "https://localhost:8080/",
          "height": 419
        },
        "id": "fyO9rqkfCYM_",
        "outputId": "63f9da60-4e2e-4c86-e707-51823f45521a"
      },
      "source": [
        "filtered_office_alt_df"
      ],
      "execution_count": 45,
      "outputs": [
        {
          "output_type": "execute_result",
          "data": {
            "text/html": [
              "<div>\n",
              "<style scoped>\n",
              "    .dataframe tbody tr th:only-of-type {\n",
              "        vertical-align: middle;\n",
              "    }\n",
              "\n",
              "    .dataframe tbody tr th {\n",
              "        vertical-align: top;\n",
              "    }\n",
              "\n",
              "    .dataframe thead th {\n",
              "        text-align: right;\n",
              "    }\n",
              "</style>\n",
              "<table border=\"1\" class=\"dataframe\">\n",
              "  <thead>\n",
              "    <tr style=\"text-align: right;\">\n",
              "      <th></th>\n",
              "      <th>office_name</th>\n",
              "      <th>dynasty_index</th>\n",
              "    </tr>\n",
              "  </thead>\n",
              "  <tbody>\n",
              "    <tr>\n",
              "      <th>4</th>\n",
              "      <td>三司勾院</td>\n",
              "      <td>15.0</td>\n",
              "    </tr>\n",
              "    <tr>\n",
              "      <th>4</th>\n",
              "      <td>都勾院</td>\n",
              "      <td>15.0</td>\n",
              "    </tr>\n",
              "    <tr>\n",
              "      <th>5</th>\n",
              "      <td>理欠</td>\n",
              "      <td>15.0</td>\n",
              "    </tr>\n",
              "    <tr>\n",
              "      <th>6</th>\n",
              "      <td>三司磨勘司</td>\n",
              "      <td>15.0</td>\n",
              "    </tr>\n",
              "    <tr>\n",
              "      <th>6</th>\n",
              "      <td>磨勘司</td>\n",
              "      <td>15.0</td>\n",
              "    </tr>\n",
              "    <tr>\n",
              "      <th>...</th>\n",
              "      <td>...</td>\n",
              "      <td>...</td>\n",
              "    </tr>\n",
              "    <tr>\n",
              "      <th>31686</th>\n",
              "      <td>治中</td>\n",
              "      <td>17.0</td>\n",
              "    </tr>\n",
              "    <tr>\n",
              "      <th>31732</th>\n",
              "      <td>提刑司</td>\n",
              "      <td>17.0</td>\n",
              "    </tr>\n",
              "    <tr>\n",
              "      <th>32186</th>\n",
              "      <td>知州</td>\n",
              "      <td>17.0</td>\n",
              "    </tr>\n",
              "    <tr>\n",
              "      <th>32193</th>\n",
              "      <td>戶部清吏司</td>\n",
              "      <td>20.0</td>\n",
              "    </tr>\n",
              "    <tr>\n",
              "      <th>32200</th>\n",
              "      <td>陰陽訓術</td>\n",
              "      <td>20.0</td>\n",
              "    </tr>\n",
              "  </tbody>\n",
              "</table>\n",
              "<p>6492 rows × 2 columns</p>\n",
              "</div>"
            ],
            "text/plain": [
              "      office_name  dynasty_index\n",
              "4            三司勾院           15.0\n",
              "4             都勾院           15.0\n",
              "5              理欠           15.0\n",
              "6           三司磨勘司           15.0\n",
              "6             磨勘司           15.0\n",
              "...           ...            ...\n",
              "31686          治中           17.0\n",
              "31732         提刑司           17.0\n",
              "32186          知州           17.0\n",
              "32193       戶部清吏司           20.0\n",
              "32200        陰陽訓術           20.0\n",
              "\n",
              "[6492 rows x 2 columns]"
            ]
          },
          "metadata": {},
          "execution_count": 45
        }
      ]
    },
    {
      "cell_type": "code",
      "metadata": {
        "id": "UPTc9Qt9CgKw"
      },
      "source": [
        "# combine df\n",
        "final_df = pd.concat([filtered_office_df, filtered_office_alt_df], keys=('office_name', 'dynasty_index')).reset_index(drop=True).drop_duplicates().dropna()"
      ],
      "execution_count": 46,
      "outputs": []
    },
    {
      "cell_type": "code",
      "metadata": {
        "colab": {
          "base_uri": "https://localhost:8080/",
          "height": 419
        },
        "id": "i6kWrl4Uh1gx",
        "outputId": "90e48b5a-f84e-4a02-b90e-79b7209d27a2"
      },
      "source": [
        "# Sort by descending order of the length\n",
        "final_df = final_df.sort_values(by=\"office_name\", key=lambda x: -x.str.len())\n",
        "final_df"
      ],
      "execution_count": 47,
      "outputs": [
        {
          "output_type": "execute_result",
          "data": {
            "text/html": [
              "<div>\n",
              "<style scoped>\n",
              "    .dataframe tbody tr th:only-of-type {\n",
              "        vertical-align: middle;\n",
              "    }\n",
              "\n",
              "    .dataframe tbody tr th {\n",
              "        vertical-align: top;\n",
              "    }\n",
              "\n",
              "    .dataframe thead th {\n",
              "        text-align: right;\n",
              "    }\n",
              "</style>\n",
              "<table border=\"1\" class=\"dataframe\">\n",
              "  <thead>\n",
              "    <tr style=\"text-align: right;\">\n",
              "      <th></th>\n",
              "      <th>office_name</th>\n",
              "      <th>dynasty_index</th>\n",
              "    </tr>\n",
              "  </thead>\n",
              "  <tbody>\n",
              "    <tr>\n",
              "      <th>2558</th>\n",
              "      <td>同管勾成都府利州陝西等路茶事兼提舉陝西等路買馬監牧公事</td>\n",
              "      <td>15.0</td>\n",
              "    </tr>\n",
              "    <tr>\n",
              "      <th>2557</th>\n",
              "      <td>同提舉成都府利州陝西等路茶場公事兼提舉陝西買馬監牧公事</td>\n",
              "      <td>15.0</td>\n",
              "    </tr>\n",
              "    <tr>\n",
              "      <th>2556</th>\n",
              "      <td>都大提舉成都府利州等路茶事兼提舉四川等路買馬監牧公事</td>\n",
              "      <td>15.0</td>\n",
              "    </tr>\n",
              "    <tr>\n",
              "      <th>9421</th>\n",
              "      <td>管領本投下大都等路打捕鷹房諸色人匠都總管府提控案牘</td>\n",
              "      <td>18.0</td>\n",
              "    </tr>\n",
              "    <tr>\n",
              "      <th>9417</th>\n",
              "      <td>管領本投下大都等路打捕鷹房諸色人匠都總管府達魯花赤</td>\n",
              "      <td>18.0</td>\n",
              "    </tr>\n",
              "    <tr>\n",
              "      <th>...</th>\n",
              "      <td>...</td>\n",
              "      <td>...</td>\n",
              "    </tr>\n",
              "    <tr>\n",
              "      <th>33484</th>\n",
              "      <td>馬帥</td>\n",
              "      <td>15.0</td>\n",
              "    </tr>\n",
              "    <tr>\n",
              "      <th>17616</th>\n",
              "      <td>曹道</td>\n",
              "      <td>20.0</td>\n",
              "    </tr>\n",
              "    <tr>\n",
              "      <th>33482</th>\n",
              "      <td>內職</td>\n",
              "      <td>15.0</td>\n",
              "    </tr>\n",
              "    <tr>\n",
              "      <th>8633</th>\n",
              "      <td>部役</td>\n",
              "      <td>18.0</td>\n",
              "    </tr>\n",
              "    <tr>\n",
              "      <th>0</th>\n",
              "      <td>提舉</td>\n",
              "      <td>15.0</td>\n",
              "    </tr>\n",
              "  </tbody>\n",
              "</table>\n",
              "<p>36462 rows × 2 columns</p>\n",
              "</div>"
            ],
            "text/plain": [
              "                       office_name  dynasty_index\n",
              "2558   同管勾成都府利州陝西等路茶事兼提舉陝西等路買馬監牧公事           15.0\n",
              "2557   同提舉成都府利州陝西等路茶場公事兼提舉陝西買馬監牧公事           15.0\n",
              "2556    都大提舉成都府利州等路茶事兼提舉四川等路買馬監牧公事           15.0\n",
              "9421     管領本投下大都等路打捕鷹房諸色人匠都總管府提控案牘           18.0\n",
              "9417     管領本投下大都等路打捕鷹房諸色人匠都總管府達魯花赤           18.0\n",
              "...                            ...            ...\n",
              "33484                           馬帥           15.0\n",
              "17616                           曹道           20.0\n",
              "33482                           內職           15.0\n",
              "8633                            部役           18.0\n",
              "0                               提舉           15.0\n",
              "\n",
              "[36462 rows x 2 columns]"
            ]
          },
          "metadata": {},
          "execution_count": 47
        }
      ]
    },
    {
      "cell_type": "code",
      "metadata": {
        "id": "DvIGLM4LDV2q"
      },
      "source": [
        "final_df.to_csv('cbdb_entity_offices.csv', index=False)"
      ],
      "execution_count": 48,
      "outputs": []
    },
    {
      "cell_type": "code",
      "metadata": {
        "id": "akK3-pokMswx"
      },
      "source": [
        "# close the db\n",
        "CONN.close()"
      ],
      "execution_count": 49,
      "outputs": []
    }
  ]
}