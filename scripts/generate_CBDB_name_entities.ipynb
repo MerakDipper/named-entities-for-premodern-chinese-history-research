{
  "nbformat": 4,
  "nbformat_minor": 2,
  "metadata": {
    "colab": {
      "name": "generate CBDB name entities.ipynb",
      "provenance": []
    },
    "kernelspec": {
      "name": "python3",
      "display_name": "Python 3.8.8 64-bit ('base': conda)"
    },
    "language_info": {
      "name": "python",
      "version": "3.8.8",
      "mimetype": "text/x-python",
      "codemirror_mode": {
        "name": "ipython",
        "version": 3
      },
      "pygments_lexer": "ipython3",
      "nbconvert_exporter": "python",
      "file_extension": ".py"
    },
    "interpreter": {
      "hash": "b3ba2566441a7c06988d0923437866b63cedc61552a5af99d1f4fb67d367b25f"
    }
  },
  "cells": [
    {
      "cell_type": "code",
      "execution_count": 4,
      "source": [
        "# Download CBDB sqlite\r\n",
        "!git clone https://github.com/cbdb-project/cbdb_sqlite.git"
      ],
      "outputs": [
        {
          "output_type": "stream",
          "name": "stderr",
          "text": [
            "fatal: destination path 'cbdb_sqlite' already exists and is not an empty directory.\n"
          ]
        }
      ],
      "metadata": {
        "colab": {
          "base_uri": "https://localhost:8080/"
        },
        "id": "Ne5fZvGSRMx2",
        "outputId": "63c30551-2d23-47c4-b970-40cbd2f1f2c9"
      }
    },
    {
      "cell_type": "code",
      "execution_count": 5,
      "source": [
        "import glob\r\n",
        "import os\r\n",
        "latest_file = \"./cbdb_sqlite/latest.7z\"\r\n",
        "print(latest_file)"
      ],
      "outputs": [
        {
          "output_type": "stream",
          "name": "stdout",
          "text": [
            "./cbdb_sqlite/latest.7z\n"
          ]
        }
      ],
      "metadata": {
        "colab": {
          "base_uri": "https://localhost:8080/"
        },
        "id": "sTdiMTi2SDtD",
        "outputId": "6bf50b96-c4e9-4a66-d02a-9fdd3189624f"
      }
    },
    {
      "cell_type": "code",
      "execution_count": 6,
      "source": [
        "# Explode latest database file\r\n",
        "!pip install pyunpack\r\n",
        "!pip install patool\r\n",
        "from pyunpack import Archive\r\n",
        "Archive(latest_file).extractall(\".\")"
      ],
      "outputs": [
        {
          "output_type": "stream",
          "name": "stdout",
          "text": [
            "Requirement already satisfied: pyunpack in c:\\programdata\\anaconda3\\lib\\site-packages (0.2.2)\n",
            "Requirement already satisfied: entrypoint2 in c:\\programdata\\anaconda3\\lib\\site-packages (from pyunpack) (0.2.4)\n",
            "Requirement already satisfied: easyprocess in c:\\programdata\\anaconda3\\lib\\site-packages (from pyunpack) (0.3)\n",
            "Requirement already satisfied: patool in c:\\programdata\\anaconda3\\lib\\site-packages (1.12)\n"
          ]
        }
      ],
      "metadata": {
        "colab": {
          "base_uri": "https://localhost:8080/"
        },
        "id": "JiWn2I7NS3gw",
        "outputId": "8cae8ae6-a9a1-490b-a3ca-c9ea9888a4fe"
      }
    },
    {
      "cell_type": "code",
      "execution_count": 7,
      "source": [
        "# Create connection to database\r\n",
        "import sqlite3\r\n",
        "import pandas as pd\r\n",
        "global CONN\r\n",
        "database_file = os.path.basename(latest_file).split(\".\")[0]+\".db\"\r\n",
        "CONN = sqlite3.connect(database_file)"
      ],
      "outputs": [],
      "metadata": {
        "id": "wgk0n6IjTC66"
      }
    },
    {
      "cell_type": "code",
      "execution_count": 8,
      "source": [
        "fullenames_df = pd.read_sql_query(\"SELECT c_name_chn FROM BIOG_MAIN\", CONN).drop_duplicates().dropna()\r\n",
        "# exclude c_alt_name_type_code = 7 (birth-order name / 行第, e.g. 第二十三)\r\n",
        "givennames_df = pd.read_sql_query(\"SELECT c_alt_name_chn FROM ALTNAME_DATA where c_alt_name_type_code <> 7\", CONN).drop_duplicates().dropna()"
      ],
      "outputs": [],
      "metadata": {
        "id": "6L7vHwL3TUnw"
      }
    },
    {
      "cell_type": "code",
      "execution_count": 9,
      "source": [
        "def names_massage(df, column):\r\n",
        "  # remove content in brackets\r\n",
        "  df[column] = df[column].str.replace(\"[\\(（].*?[\\)）]\", \"\", regex=True)\r\n",
        "  # remove single-character name\r\n",
        "  df = df[df[column].apply(lambda x: len(x)>1)]\r\n",
        "  # filter out weird characters\r\n",
        "  df = df[df[column].str.contains('\\?|？|#|!|！|【|。|、.|,|，|\\*|、|\\[|□|�|{|「')==False]\r\n",
        "  df = df[df[column].str.contains('.*[a-zA-Z]+.*')==False]\r\n",
        "  df = df[df[column].str.contains('\\d')==False]\r\n",
        "  df.drop_duplicates().dropna()\r\n",
        "  return df"
      ],
      "outputs": [],
      "metadata": {
        "id": "POEJnpbyTVTA"
      }
    },
    {
      "cell_type": "code",
      "execution_count": 10,
      "source": [
        "filtered_fullnames = names_massage(fullenames_df, 'c_name_chn')\r\n",
        "filtered_givennames = names_massage(givennames_df, 'c_alt_name_chn')"
      ],
      "outputs": [],
      "metadata": {
        "id": "4JAgPmpt5MKp"
      }
    },
    {
      "cell_type": "code",
      "execution_count": 11,
      "source": [
        "filtered_fullnames"
      ],
      "outputs": [
        {
          "output_type": "execute_result",
          "data": {
            "text/html": [
              "<div>\n",
              "<style scoped>\n",
              "    .dataframe tbody tr th:only-of-type {\n",
              "        vertical-align: middle;\n",
              "    }\n",
              "\n",
              "    .dataframe tbody tr th {\n",
              "        vertical-align: top;\n",
              "    }\n",
              "\n",
              "    .dataframe thead th {\n",
              "        text-align: right;\n",
              "    }\n",
              "</style>\n",
              "<table border=\"1\" class=\"dataframe\">\n",
              "  <thead>\n",
              "    <tr style=\"text-align: right;\">\n",
              "      <th></th>\n",
              "      <th>c_name_chn</th>\n",
              "    </tr>\n",
              "  </thead>\n",
              "  <tbody>\n",
              "    <tr>\n",
              "      <th>0</th>\n",
              "      <td>富興</td>\n",
              "    </tr>\n",
              "    <tr>\n",
              "      <th>1</th>\n",
              "      <td>富陞額</td>\n",
              "    </tr>\n",
              "    <tr>\n",
              "      <th>2</th>\n",
              "      <td>嵩山</td>\n",
              "    </tr>\n",
              "    <tr>\n",
              "      <th>3</th>\n",
              "      <td>得祿</td>\n",
              "    </tr>\n",
              "    <tr>\n",
              "      <th>4</th>\n",
              "      <td>恆善</td>\n",
              "    </tr>\n",
              "    <tr>\n",
              "      <th>...</th>\n",
              "      <td>...</td>\n",
              "    </tr>\n",
              "    <tr>\n",
              "      <th>491162</th>\n",
              "      <td>龔龍見</td>\n",
              "    </tr>\n",
              "    <tr>\n",
              "      <th>491164</th>\n",
              "      <td>郎侃</td>\n",
              "    </tr>\n",
              "    <tr>\n",
              "      <th>491165</th>\n",
              "      <td>郎崇賢</td>\n",
              "    </tr>\n",
              "    <tr>\n",
              "      <th>491166</th>\n",
              "      <td>郎汝璠</td>\n",
              "    </tr>\n",
              "    <tr>\n",
              "      <th>491167</th>\n",
              "      <td>𣾰生色</td>\n",
              "    </tr>\n",
              "  </tbody>\n",
              "</table>\n",
              "<p>352504 rows × 1 columns</p>\n",
              "</div>"
            ],
            "text/plain": [
              "       c_name_chn\n",
              "0              富興\n",
              "1             富陞額\n",
              "2              嵩山\n",
              "3              得祿\n",
              "4              恆善\n",
              "...           ...\n",
              "491162        龔龍見\n",
              "491164         郎侃\n",
              "491165        郎崇賢\n",
              "491166        郎汝璠\n",
              "491167        𣾰生色\n",
              "\n",
              "[352504 rows x 1 columns]"
            ]
          },
          "metadata": {},
          "execution_count": 11
        }
      ],
      "metadata": {
        "colab": {
          "base_uri": "https://localhost:8080/",
          "height": 419
        },
        "id": "hSr5zMZ8CXOr",
        "outputId": "0a84aaf8-dffa-422e-e4e0-ab2e7dca69d6"
      }
    },
    {
      "cell_type": "code",
      "execution_count": 12,
      "source": [
        "filtered_givennames"
      ],
      "outputs": [
        {
          "output_type": "execute_result",
          "data": {
            "text/html": [
              "<div>\n",
              "<style scoped>\n",
              "    .dataframe tbody tr th:only-of-type {\n",
              "        vertical-align: middle;\n",
              "    }\n",
              "\n",
              "    .dataframe tbody tr th {\n",
              "        vertical-align: top;\n",
              "    }\n",
              "\n",
              "    .dataframe thead th {\n",
              "        text-align: right;\n",
              "    }\n",
              "</style>\n",
              "<table border=\"1\" class=\"dataframe\">\n",
              "  <thead>\n",
              "    <tr style=\"text-align: right;\">\n",
              "      <th></th>\n",
              "      <th>c_alt_name_chn</th>\n",
              "    </tr>\n",
              "  </thead>\n",
              "  <tbody>\n",
              "    <tr>\n",
              "      <th>0</th>\n",
              "      <td>處厚</td>\n",
              "    </tr>\n",
              "    <tr>\n",
              "      <th>1</th>\n",
              "      <td>厚卿</td>\n",
              "    </tr>\n",
              "    <tr>\n",
              "      <th>2</th>\n",
              "      <td>湛然</td>\n",
              "    </tr>\n",
              "    <tr>\n",
              "      <th>3</th>\n",
              "      <td>元章</td>\n",
              "    </tr>\n",
              "    <tr>\n",
              "      <th>4</th>\n",
              "      <td>寳臣</td>\n",
              "    </tr>\n",
              "    <tr>\n",
              "      <th>...</th>\n",
              "      <td>...</td>\n",
              "    </tr>\n",
              "    <tr>\n",
              "      <th>139602</th>\n",
              "      <td>南阿山人</td>\n",
              "    </tr>\n",
              "    <tr>\n",
              "      <th>139606</th>\n",
              "      <td>明徵</td>\n",
              "    </tr>\n",
              "    <tr>\n",
              "      <th>139610</th>\n",
              "      <td>爾思</td>\n",
              "    </tr>\n",
              "    <tr>\n",
              "      <th>139611</th>\n",
              "      <td>飛虎將軍</td>\n",
              "    </tr>\n",
              "    <tr>\n",
              "      <th>139612</th>\n",
              "      <td>於始</td>\n",
              "    </tr>\n",
              "  </tbody>\n",
              "</table>\n",
              "<p>72462 rows × 1 columns</p>\n",
              "</div>"
            ],
            "text/plain": [
              "       c_alt_name_chn\n",
              "0                  處厚\n",
              "1                  厚卿\n",
              "2                  湛然\n",
              "3                  元章\n",
              "4                  寳臣\n",
              "...               ...\n",
              "139602           南阿山人\n",
              "139606             明徵\n",
              "139610             爾思\n",
              "139611           飛虎將軍\n",
              "139612             於始\n",
              "\n",
              "[72462 rows x 1 columns]"
            ]
          },
          "metadata": {},
          "execution_count": 12
        }
      ],
      "metadata": {
        "colab": {
          "base_uri": "https://localhost:8080/",
          "height": 419
        },
        "id": "fyO9rqkfCYM_",
        "outputId": "2a955d3d-949e-483f-f00f-d792455857b0"
      }
    },
    {
      "cell_type": "code",
      "execution_count": 13,
      "source": [
        "# combine df\r\n",
        "final_df = pd.concat([filtered_fullnames, filtered_givennames], axis=1).stack().reset_index(drop=True).drop_duplicates().dropna().to_frame(name='name')"
      ],
      "outputs": [],
      "metadata": {
        "id": "UPTc9Qt9CgKw"
      }
    },
    {
      "cell_type": "code",
      "execution_count": 14,
      "source": [
        "final_df"
      ],
      "outputs": [
        {
          "output_type": "execute_result",
          "data": {
            "text/html": [
              "<div>\n",
              "<style scoped>\n",
              "    .dataframe tbody tr th:only-of-type {\n",
              "        vertical-align: middle;\n",
              "    }\n",
              "\n",
              "    .dataframe tbody tr th {\n",
              "        vertical-align: top;\n",
              "    }\n",
              "\n",
              "    .dataframe thead th {\n",
              "        text-align: right;\n",
              "    }\n",
              "</style>\n",
              "<table border=\"1\" class=\"dataframe\">\n",
              "  <thead>\n",
              "    <tr style=\"text-align: right;\">\n",
              "      <th></th>\n",
              "      <th>name</th>\n",
              "    </tr>\n",
              "  </thead>\n",
              "  <tbody>\n",
              "    <tr>\n",
              "      <th>0</th>\n",
              "      <td>富興</td>\n",
              "    </tr>\n",
              "    <tr>\n",
              "      <th>1</th>\n",
              "      <td>處厚</td>\n",
              "    </tr>\n",
              "    <tr>\n",
              "      <th>2</th>\n",
              "      <td>富陞額</td>\n",
              "    </tr>\n",
              "    <tr>\n",
              "      <th>3</th>\n",
              "      <td>厚卿</td>\n",
              "    </tr>\n",
              "    <tr>\n",
              "      <th>4</th>\n",
              "      <td>嵩山</td>\n",
              "    </tr>\n",
              "    <tr>\n",
              "      <th>...</th>\n",
              "      <td>...</td>\n",
              "    </tr>\n",
              "    <tr>\n",
              "      <th>424961</th>\n",
              "      <td>龔龍見</td>\n",
              "    </tr>\n",
              "    <tr>\n",
              "      <th>424962</th>\n",
              "      <td>郎侃</td>\n",
              "    </tr>\n",
              "    <tr>\n",
              "      <th>424963</th>\n",
              "      <td>郎崇賢</td>\n",
              "    </tr>\n",
              "    <tr>\n",
              "      <th>424964</th>\n",
              "      <td>郎汝璠</td>\n",
              "    </tr>\n",
              "    <tr>\n",
              "      <th>424965</th>\n",
              "      <td>𣾰生色</td>\n",
              "    </tr>\n",
              "  </tbody>\n",
              "</table>\n",
              "<p>376540 rows × 1 columns</p>\n",
              "</div>"
            ],
            "text/plain": [
              "       name\n",
              "0        富興\n",
              "1        處厚\n",
              "2       富陞額\n",
              "3        厚卿\n",
              "4        嵩山\n",
              "...     ...\n",
              "424961  龔龍見\n",
              "424962   郎侃\n",
              "424963  郎崇賢\n",
              "424964  郎汝璠\n",
              "424965  𣾰生色\n",
              "\n",
              "[376540 rows x 1 columns]"
            ]
          },
          "metadata": {},
          "execution_count": 14
        }
      ],
      "metadata": {
        "colab": {
          "base_uri": "https://localhost:8080/",
          "height": 419
        },
        "id": "i6kWrl4Uh1gx",
        "outputId": "4b636edf-1709-4397-b3b6-1fd7d7b53717"
      }
    },
    {
      "cell_type": "code",
      "execution_count": 15,
      "source": [
        "final_df.to_csv('cbdb_entity_names.csv', index=False)"
      ],
      "outputs": [],
      "metadata": {
        "id": "DvIGLM4LDV2q"
      }
    }
  ]
}